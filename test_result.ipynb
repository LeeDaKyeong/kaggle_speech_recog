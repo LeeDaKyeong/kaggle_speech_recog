{
 "cells": [
  {
   "cell_type": "code",
   "execution_count": 1,
   "metadata": {},
   "outputs": [
    {
     "name": "stderr",
     "output_type": "stream",
     "text": [
      "Using TensorFlow backend.\n",
      "/Users/apple/anaconda3/lib/python3.6/importlib/_bootstrap.py:219: RuntimeWarning: compiletime version 3.5 of module 'tensorflow.python.framework.fast_tensor_util' does not match runtime version 3.6\n",
      "  return f(*args, **kwds)\n"
     ]
    }
   ],
   "source": [
    "import numpy as np\n",
    "import librosa\n",
    "%matplotlib inline\n",
    "import matplotlib.pyplot as plt\n",
    "import os\n",
    "import librosa.display\n",
    "import re\n",
    "\n",
    "from keras.models import Sequential\n",
    "from keras.layers import Dense\n",
    "from keras.layers import Flatten\n",
    "from keras.layers import Dropout\n",
    "from keras.layers.convolutional import Conv2D\n",
    "from keras.layers.convolutional import MaxPooling2D\n",
    "from keras.preprocessing.image import ImageDataGenerator\n",
    "from keras.models import load_model"
   ]
  },
  {
   "cell_type": "code",
   "execution_count": 2,
   "metadata": {},
   "outputs": [
    {
     "name": "stdout",
     "output_type": "stream",
     "text": [
      "Found 158538 images belonging to 1 classes.\n"
     ]
    }
   ],
   "source": [
    "test_path = '/Users/apple/Desktop/test_image'\n",
    "test_datagen = ImageDataGenerator(rescale=1./255)\n",
    "\n",
    "test_generator = test_datagen.flow_from_directory(\n",
    "        test_path,\n",
    "        target_size=(286, 278),    \n",
    "        batch_size=100,\n",
    "        class_mode='categorical',\n",
    "shuffle=False)"
   ]
  },
  {
   "cell_type": "code",
   "execution_count": 3,
   "metadata": {},
   "outputs": [
    {
     "name": "stdout",
     "output_type": "stream",
     "text": [
      "WARNING:tensorflow:From /Users/apple/anaconda3/lib/python3.6/site-packages/keras/backend/tensorflow_backend.py:1264: calling reduce_prod (from tensorflow.python.ops.math_ops) with keep_dims is deprecated and will be removed in a future version.\n",
      "Instructions for updating:\n",
      "keep_dims is deprecated, use keepdims instead\n",
      "WARNING:tensorflow:From /Users/apple/anaconda3/lib/python3.6/site-packages/keras/backend/tensorflow_backend.py:2885: calling reduce_sum (from tensorflow.python.ops.math_ops) with keep_dims is deprecated and will be removed in a future version.\n",
      "Instructions for updating:\n",
      "keep_dims is deprecated, use keepdims instead\n",
      "WARNING:tensorflow:From /Users/apple/anaconda3/lib/python3.6/site-packages/keras/backend/tensorflow_backend.py:1349: calling reduce_mean (from tensorflow.python.ops.math_ops) with keep_dims is deprecated and will be removed in a future version.\n",
      "Instructions for updating:\n",
      "keep_dims is deprecated, use keepdims instead\n"
     ]
    }
   ],
   "source": [
    "model1 = load_model(\"/Users/apple/Downloads/CNN4_high_v1/CNN1_high_v1.h5\")\n",
    "model2 = load_model(\"/Users/apple/Downloads/CNN4_high_v1/CNN2_high_v1.h5\")\n",
    "model3 = load_model(\"/Users/apple/Downloads/CNN4_high_v1/CNN3_high_v1.h5\")\n",
    "model4 = load_model(\"/Users/apple/Downloads/CNN4_high_v1/CNN4_high_v1.h5\")\n",
    "\n",
    "speech = {0: \"unknown\",\n",
    "          1: \"unknown\",\n",
    "          2: \"unknown\",\n",
    "          3: \"unknown\",\n",
    "          4: \"down\",\n",
    "          5: \"unknown\",\n",
    "          6: \"unknown\",\n",
    "          7: \"unknown\",\n",
    "          8: \"go\",\n",
    "          9: \"unknown\",\n",
    "          10: \"unknown\",\n",
    "          11: \"left\",\n",
    "         12:\"unknown\",\n",
    "         13:\"unknown\",\n",
    "         14:\"no\",\n",
    "         15:\"off\",\n",
    "         16:\"on\",\n",
    "         17:\"unknown\",\n",
    "         18:\"right\",\n",
    "         19:\"unknown\",\n",
    "         20:\"unknown\",\n",
    "         21:\"unknown\",\n",
    "         22:\"stop\",\n",
    "         23:\"unknown\",\n",
    "         24:\"unknown\",\n",
    "         25:\"unknown\",\n",
    "         26:\"up\",\n",
    "         27:\"unknown\",\n",
    "         28:\"yes\",\n",
    "         29:\"unknown\"}"
   ]
  },
  {
   "cell_type": "code",
   "execution_count": 4,
   "metadata": {},
   "outputs": [
    {
     "name": "stdout",
     "output_type": "stream",
     "text": [
      "prob1 end\n",
      "prob2 end\n",
      "prob3 end\n",
      "prob4 end\n"
     ]
    }
   ],
   "source": [
    "prob1 = model1.predict_generator(test_generator)\n",
    "print(\"prob1 end\")\n",
    "prob2 = model2.predict_generator(test_generator)\n",
    "print(\"prob2 end\")\n",
    "prob3 = model3.predict_generator(test_generator)\n",
    "print(\"prob3 end\")\n",
    "prob4 = model4.predict_generator(test_generator)\n",
    "print(\"prob4 end\")\n",
    "\n",
    "prob = prob1+prob2+prob3+prob4\n",
    "result = np.argmax(prob, axis=1)"
   ]
  },
  {
   "cell_type": "code",
   "execution_count": 5,
   "metadata": {},
   "outputs": [
    {
     "name": "stdout",
     "output_type": "stream",
     "text": [
      "0\n",
      "10000\n",
      "20000\n",
      "30000\n",
      "40000\n",
      "50000\n",
      "60000\n",
      "70000\n",
      "80000\n",
      "90000\n",
      "100000\n",
      "110000\n",
      "120000\n",
      "130000\n",
      "140000\n",
      "150000\n"
     ]
    }
   ],
   "source": [
    "import csv    \n",
    "f = open('/Users/apple/Desktop/spectrogram_ensemble_output.csv', 'w', encoding='utf-8', newline='')\n",
    "wr = csv.writer(f)\n",
    "wr.writerow([\"fname\",\"label\"])\n",
    "\n",
    "for i in range(len(result)): \n",
    "#for i in range(10): \n",
    "    if i % 10000 == 0:\n",
    "        print(i)\n",
    "        \n",
    "    filename = test_generator.filenames[i].split(\"/\")[1].split(\".\")[0]+\".wav\"\n",
    "    path = os.path.join(\"/Users/apple/Desktop/test/test/audio\",filename)\n",
    "    y, sr = librosa.load(path,sr = 16000)\n",
    "    if sum(y) == 0:\n",
    "        wr.writerow([filename, \"silence\"])\n",
    "    else:\n",
    "        wr.writerow([filename, speech[result[i]]])\n",
    "f.close()"
   ]
  },
  {
   "cell_type": "code",
   "execution_count": null,
   "metadata": {
    "collapsed": true
   },
   "outputs": [],
   "source": []
  }
 ],
 "metadata": {
  "kernelspec": {
   "display_name": "Python 3",
   "language": "python",
   "name": "python3"
  },
  "language_info": {
   "codemirror_mode": {
    "name": "ipython",
    "version": 3
   },
   "file_extension": ".py",
   "mimetype": "text/x-python",
   "name": "python",
   "nbconvert_exporter": "python",
   "pygments_lexer": "ipython3",
   "version": "3.6.3"
  }
 },
 "nbformat": 4,
 "nbformat_minor": 2
}
